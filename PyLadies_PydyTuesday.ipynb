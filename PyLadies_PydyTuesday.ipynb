{
 "cells": [
  {
   "cell_type": "markdown",
   "id": "84cea216",
   "metadata": {},
   "source": [
    "# PyLadies: Crane Dataset Demo 🦢\n",
    "*Date: 2025-09-29*  \n",
    "*Presenter: Jennifer Slotnick*\n",
    "\n",
    "For this lightning talk I’ll demonstrate simple plotting in Python using the **TidyTuesday dataset of the prior week**.\n",
    "\n",
    "TidyTuesday is organized by the **Data Science Learning Community**. All are welcome to participate, and you’re encouraged to share the code you used to generate your results!  \n",
    "\n",
    "📂 TidyTuesday GitHub: [rfordatascience/tidytuesday](https://github.com/rfordatascience/tidytuesday)\n",
    "\n",
    "TidyTuesday datasets are great for practicing data skills — each week includes a short article, dataset, and data dictionary.  \n",
    "\n",
    "⚠️ **Note:** TidyTuesday is for *practice only*. These datasets are incomplete snapshots, so we should not infer causation.  We can just practice tidying and plotting!\n"
   ]
  },
  {
   "cell_type": "markdown",
   "id": "a6652259",
   "metadata": {},
   "source": [
    "## 0.Setup\n",
    "\n",
    "If running in a fresh environment, install required libraries:  \n",
    "(Uncomment the line below if needed)"
   ]
  },
  {
   "cell_type": "code",
   "execution_count": 2,
   "id": "38db2e08",
   "metadata": {},
   "outputs": [],
   "source": [
    "# !pip install pandas matplotlib scikit-learn"
   ]
  },
  {
   "cell_type": "markdown",
   "id": "8669a12e",
   "metadata": {},
   "source": [
    "## 🔑 Mini Cheatsheet (pandas + matplotlib)\n",
    "\n",
    "### pandas\n",
    "- `df.head()` → preview first rows  \n",
    "- `df.info()` → data types & non-null counts  \n",
    "- `df.groupby(\"col\")[\"value\"].mean()` → group & summarize  \n",
    "- `df[\"col\"].dt.year` → extract year from datetime  \n",
    "\n",
    "### matplotlib\n",
    "- `plt.plot(x, y, marker=\"o\")` → simple line chart  \n",
    "- `plt.xlabel(\"...\")` / `plt.ylabel(\"...\")` → axis labels  \n",
    "- `plt.title(\"...\")` → add a title  \n",
    "- `plt.show()` → display the plot\n"
   ]
  },
  {
   "cell_type": "markdown",
   "id": "3a1df0d8",
   "metadata": {},
   "source": [
    "## 1. Load the Data\n",
    "The TidyTuesday team provides the article, dataset, and data dictionary on GitHub.  \n",
    "\n",
    "Note: TidyTuesday started as an R project, so their cleaning script is in R, but you can use Python to explore the data too."
   ]
  },
  {
   "cell_type": "code",
   "execution_count": 3,
   "id": "995dbc0c",
   "metadata": {},
   "outputs": [
    {
     "data": {
      "text/html": [
       "<div>\n",
       "<style scoped>\n",
       "    .dataframe tbody tr th:only-of-type {\n",
       "        vertical-align: middle;\n",
       "    }\n",
       "\n",
       "    .dataframe tbody tr th {\n",
       "        vertical-align: top;\n",
       "    }\n",
       "\n",
       "    .dataframe thead th {\n",
       "        text-align: right;\n",
       "    }\n",
       "</style>\n",
       "<table border=\"1\" class=\"dataframe\">\n",
       "  <thead>\n",
       "    <tr style=\"text-align: right;\">\n",
       "      <th></th>\n",
       "      <th>date</th>\n",
       "      <th>observations</th>\n",
       "      <th>comment</th>\n",
       "      <th>weather_disruption</th>\n",
       "    </tr>\n",
       "  </thead>\n",
       "  <tbody>\n",
       "    <tr>\n",
       "      <th>0</th>\n",
       "      <td>2024-10-03</td>\n",
       "      <td>408.0</td>\n",
       "      <td>Last count of season</td>\n",
       "      <td>False</td>\n",
       "    </tr>\n",
       "    <tr>\n",
       "      <th>1</th>\n",
       "      <td>2024-09-30</td>\n",
       "      <td>14940.0</td>\n",
       "      <td>NaN</td>\n",
       "      <td>False</td>\n",
       "    </tr>\n",
       "    <tr>\n",
       "      <th>2</th>\n",
       "      <td>2024-09-26</td>\n",
       "      <td>NaN</td>\n",
       "      <td>Canceled/No count</td>\n",
       "      <td>True</td>\n",
       "    </tr>\n",
       "    <tr>\n",
       "      <th>3</th>\n",
       "      <td>2024-09-23</td>\n",
       "      <td>18450.0</td>\n",
       "      <td>NaN</td>\n",
       "      <td>False</td>\n",
       "    </tr>\n",
       "    <tr>\n",
       "      <th>4</th>\n",
       "      <td>2024-09-19</td>\n",
       "      <td>14900.0</td>\n",
       "      <td>NaN</td>\n",
       "      <td>False</td>\n",
       "    </tr>\n",
       "  </tbody>\n",
       "</table>\n",
       "</div>"
      ],
      "text/plain": [
       "         date  observations               comment  weather_disruption\n",
       "0  2024-10-03         408.0  Last count of season               False\n",
       "1  2024-09-30       14940.0                   NaN               False\n",
       "2  2024-09-26           NaN     Canceled/No count                True\n",
       "3  2024-09-23       18450.0                   NaN               False\n",
       "4  2024-09-19       14900.0                   NaN               False"
      ]
     },
     "execution_count": 3,
     "metadata": {},
     "output_type": "execute_result"
    }
   ],
   "source": [
    "import pandas as pd\n",
    "import matplotlib.pyplot as plt\n",
    "# import pydytuesday   # optional\n",
    "\n",
    "# Option A: download all weekly files with pydytuesday\n",
    "# pydytuesday.get_date('2025-09-30')\n",
    "\n",
    "# Option B: simplest – read the CSV directly from GitHub\n",
    "url = \"https://raw.githubusercontent.com/rfordatascience/tidytuesday/main/data/2025/2025-09-30/cranes.csv\"\n",
    "cranes = pd.read_csv(url)\n",
    "\n",
    "# First look at the data\n",
    "cranes.head()"
   ]
  },
  {
   "cell_type": "markdown",
   "id": "39fe3e66",
   "metadata": {},
   "source": [
    "## 2. Guiding Question of the Week\n",
    "\n",
    "Has the crane population at Lake Hornborgasjön grown over the past 30 years?"
   ]
  },
  {
   "cell_type": "markdown",
   "id": "a415f8d4",
   "metadata": {},
   "source": [
    "## 3. Outline your Plan\n",
    "From this prompt, I want to look at crane data over the year so I started manipulating the date_column and split that data out to play with. My plan is to plot the average crane population per year for the past 30 years. To do that I will look at the yearly mean to plot per year."
   ]
  },
  {
   "cell_type": "code",
   "execution_count": 9,
   "id": "12f87411",
   "metadata": {},
   "outputs": [
    {
     "data": {
      "text/html": [
       "<div>\n",
       "<style scoped>\n",
       "    .dataframe tbody tr th:only-of-type {\n",
       "        vertical-align: middle;\n",
       "    }\n",
       "\n",
       "    .dataframe tbody tr th {\n",
       "        vertical-align: top;\n",
       "    }\n",
       "\n",
       "    .dataframe thead th {\n",
       "        text-align: right;\n",
       "    }\n",
       "</style>\n",
       "<table border=\"1\" class=\"dataframe\">\n",
       "  <thead>\n",
       "    <tr style=\"text-align: right;\">\n",
       "      <th></th>\n",
       "      <th>date_column</th>\n",
       "      <th>day</th>\n",
       "      <th>month</th>\n",
       "      <th>year</th>\n",
       "      <th>day_of_year</th>\n",
       "    </tr>\n",
       "  </thead>\n",
       "  <tbody>\n",
       "    <tr>\n",
       "      <th>0</th>\n",
       "      <td>2024-10-03</td>\n",
       "      <td>3</td>\n",
       "      <td>10</td>\n",
       "      <td>2024</td>\n",
       "      <td>277</td>\n",
       "    </tr>\n",
       "    <tr>\n",
       "      <th>1</th>\n",
       "      <td>2024-09-30</td>\n",
       "      <td>30</td>\n",
       "      <td>9</td>\n",
       "      <td>2024</td>\n",
       "      <td>274</td>\n",
       "    </tr>\n",
       "    <tr>\n",
       "      <th>2</th>\n",
       "      <td>2024-09-26</td>\n",
       "      <td>26</td>\n",
       "      <td>9</td>\n",
       "      <td>2024</td>\n",
       "      <td>270</td>\n",
       "    </tr>\n",
       "    <tr>\n",
       "      <th>3</th>\n",
       "      <td>2024-09-23</td>\n",
       "      <td>23</td>\n",
       "      <td>9</td>\n",
       "      <td>2024</td>\n",
       "      <td>267</td>\n",
       "    </tr>\n",
       "    <tr>\n",
       "      <th>4</th>\n",
       "      <td>2024-09-19</td>\n",
       "      <td>19</td>\n",
       "      <td>9</td>\n",
       "      <td>2024</td>\n",
       "      <td>263</td>\n",
       "    </tr>\n",
       "  </tbody>\n",
       "</table>\n",
       "</div>"
      ],
      "text/plain": [
       "  date_column  day  month  year  day_of_year\n",
       "0  2024-10-03    3     10  2024          277\n",
       "1  2024-09-30   30      9  2024          274\n",
       "2  2024-09-26   26      9  2024          270\n",
       "3  2024-09-23   23      9  2024          267\n",
       "4  2024-09-19   19      9  2024          263"
      ]
     },
     "execution_count": 9,
     "metadata": {},
     "output_type": "execute_result"
    }
   ],
   "source": [
    "#Convert column date to datetime, create day_of_the_year\n",
    "cranes['date_column'] = pd.to_datetime(cranes['date'])\n",
    "\n",
    "#pieces of date\n",
    "cranes['day'] = cranes['date_column'].dt.day\n",
    "cranes['month'] = cranes['date_column'].dt.month\n",
    "cranes['year'] = cranes['date_column'].dt.year\n",
    "cranes['day_of_year'] = cranes['date_column'].dt.dayofyear\n",
    "\n",
    "cranes[['date_column','day','month','year','day_of_year']].head()"
   ]
  },
  {
   "cell_type": "markdown",
   "id": "3e62063f",
   "metadata": {},
   "source": [
    "After I have all the dates broken down I can look at the yearly average"
   ]
  },
  {
   "cell_type": "code",
   "execution_count": 6,
   "id": "5f78216c",
   "metadata": {},
   "outputs": [
    {
     "name": "stdout",
     "output_type": "stream",
     "text": [
      "   year  observations\n",
      "0  1994   2749.714286\n",
      "1  1995   2274.378378\n",
      "2  1996   2313.814815\n",
      "3  1997   3340.676471\n",
      "4  1998   4602.777778\n"
     ]
    }
   ],
   "source": [
    "yearly_avg = cranes.groupby('year')['observations'].mean().reset_index()\n",
    "\n",
    "print(yearly_avg.head())"
   ]
  },
  {
   "cell_type": "markdown",
   "id": "cfef42b7",
   "metadata": {},
   "source": [
    "Ok, ready to do a simple plot! Heres some documentaiton on plotting using matplotlib: https://matplotlib.org/stable/tutorials/pyplot.html "
   ]
  },
  {
   "cell_type": "code",
   "execution_count": 7,
   "id": "b3e849a1",
   "metadata": {},
   "outputs": [
    {
     "data": {
      "image/png": "[encoded data removed]",
      "text/plain": [
       "<Figure size 640x480 with 1 Axes>"
      ]
     },
     "metadata": {},
     "output_type": "display_data"
    }
   ],
   "source": [
    "#plot a simple line graph of crane observations per year\n",
    "plt.plot(yearly_avg[\"year\"], yearly_avg[\"observations\"], marker=\"o\")\n",
    "plt.xlabel('Year')\n",
    "plt.ylabel('Average Crane Observations')\n",
    "plt.title('Average Crane Population at Lake Hornborgasjön Per Year (1994-2024)')\n",
    "plt.show()"
   ]
  },
  {
   "cell_type": "markdown",
   "id": "1e44932b",
   "metadata": {},
   "source": [
    "## 4. Reflection & Call to Action!\n",
    "\n",
    "✅ We cleaned the data, created date features, and plotted average crane observations per year.  \n",
    "📊 This gave us a sense of long-term trends, but it also sparks more questions!\n",
    "\n",
    "### Your Turn: Explore Further\n",
    "One of the TidyTuesday prompts is:  \n",
    "**“If you wanted to see thousands of cranes, when is the best time of year to visit?”**\n",
    "\n",
    "To get started, try grouping by **month** instead of year below\n"
   ]
  },
  {
   "cell_type": "code",
   "execution_count": null,
   "id": "6256faab",
   "metadata": {},
   "outputs": [],
   "source": [
    "#Group by Month YOUR CODE BELOW"
   ]
  },
  {
   "cell_type": "markdown",
   "id": "bb19bb4f",
   "metadata": {},
   "source": [
    "## 5. Share Your Work ✨\n",
    "\n",
    "TidyTuesday is all about **learning in public** and connecting with others.  \n",
    "If you try one of the practice prompts or make your own plot, consider sharing it!\n",
    "\n",
    "### How to Share\n",
    "- 📸 Post your visualization on **Twitter/X, Mastodon, or LinkedIn** with the hashtag **#TidyTuesday**  \n",
    "- 📂 Include your code (GitHub, Gist, Colab, or Kaggle Notebook are all fine)  \n",
    "- 💬 Join the conversation in the [TidyTuesday GitHub Discussions](https://github.com/rfordatascience/tidytuesday/discussions)  \n",
    "\n",
    "### Why Share?\n",
    "- Practice explaining your work to others  \n",
    "- Get feedback, encouragement, and new ideas  \n",
    "- Become part of a global data science learning community  \n",
    "\n",
    "**All are welcome** — the emphasis is on practice and learning, not perfection!!  \n"
   ]
  }
 ],
 "metadata": {
  "kernelspec": {
   "display_name": "base",
   "language": "python",
   "name": "python3"
  },
  "language_info": {
   "codemirror_mode": {
    "name": "ipython",
    "version": 3
   },
   "file_extension": ".py",
   "mimetype": "text/x-python",
   "name": "python",
   "nbconvert_exporter": "python",
   "pygments_lexer": "ipython3",
   "version": "3.12.9"
  }
 },
 "nbformat": 4,
 "nbformat_minor": 5
}
